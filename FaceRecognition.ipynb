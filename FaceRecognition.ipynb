{
 "cells": [
  {
   "cell_type": "code",
   "execution_count": 1,
   "id": "56efcd05-81fc-4a2f-803b-6f01ed26bfa0",
   "metadata": {},
   "outputs": [],
   "source": [
    "import cv2\n",
    "from keras_facenet import FaceNet\n",
    "import numpy as np"
   ]
  },
  {
   "cell_type": "code",
   "execution_count": 2,
   "id": "8974341a-e466-46f3-88f5-52a327808f5a",
   "metadata": {},
   "outputs": [
    {
     "name": "stdout",
     "output_type": "stream",
     "text": [
      "WARNING:tensorflow:From C:\\Users\\HAMTHAN\\AppData\\Local\\Packages\\PythonSoftwareFoundation.Python.3.12_qbz5n2kfra8p0\\LocalCache\\local-packages\\Python312\\site-packages\\keras\\src\\backend\\tensorflow\\core.py:192: The name tf.placeholder is deprecated. Please use tf.compat.v1.placeholder instead.\n",
      "\n"
     ]
    }
   ],
   "source": [
    "model = FaceNet()"
   ]
  },
  {
   "cell_type": "code",
   "execution_count": 4,
   "id": "36dd12ca-6e68-4e4f-9395-059c9dd13e4c",
   "metadata": {},
   "outputs": [],
   "source": [
    "database = {}"
   ]
  },
  {
   "cell_type": "code",
   "execution_count": 5,
   "id": "65acd52d-8ffe-4a7b-855d-ee7bfce67673",
   "metadata": {},
   "outputs": [],
   "source": [
    "def register_person(person_id, image):\n",
    "    resized_image=preprocess_image(image)\n",
    "    embedding = model.embeddings([resized_image])[0]\n",
    "    database[person_id] = embedding\n",
    "    print(f\"Person {person_id} registered successfully.\")"
   ]
  },
  {
   "cell_type": "code",
   "execution_count": 6,
   "id": "02cbed18-fe4c-45d9-87fd-0c44de72bd09",
   "metadata": {},
   "outputs": [],
   "source": [
    "def capture_image():\n",
    "    cap = cv2.VideoCapture(0)\n",
    "    ret, frame = cap.read()\n",
    "    if not ret:\n",
    "        print(\"Failed to capture image\")\n",
    "        return None\n",
    "    cap.release()\n",
    "    return frame"
   ]
  },
  {
   "cell_type": "code",
   "execution_count": 7,
   "id": "41132048-7591-49b1-8930-aa4f3c8a522c",
   "metadata": {},
   "outputs": [],
   "source": [
    "def preprocess_image(image):\n",
    "    resized_image = cv2.resize(image, (160, 160))\n",
    "    cv2.imshow('Image', resized_image)\n",
    "\n",
    "    # Wait for a key press and close the window\n",
    "    cv2.waitKey(0)\n",
    "    cv2.destroyAllWindows()\n",
    "    return resized_image"
   ]
  },
  {
   "cell_type": "code",
   "execution_count": 8,
   "id": "cc044f5f-b836-4ef1-bd0d-8f97d368fd7d",
   "metadata": {},
   "outputs": [],
   "source": [
    "def softmax(x):\n",
    "    e_x = np.exp(x - np.max(x))\n",
    "    return e_x / e_x.sum(axis=0)"
   ]
  },
  {
   "cell_type": "code",
   "execution_count": 9,
   "id": "6e34e421-4940-416c-86dd-c0c2ba4f2fa0",
   "metadata": {},
   "outputs": [],
   "source": [
    "def find_match(new_embedding, database, threshold):\n",
    "    distances = []\n",
    "    person_ids = []\n",
    "    for person_id, stored_embedding in database.items():\n",
    "        distance = np.linalg.norm(new_embedding - stored_embedding)\n",
    "        distances.append(distance)\n",
    "        person_ids.append(person_id)\n",
    "    print(distances)\n",
    "    if min(distances) > threshold:\n",
    "        return None,min(distances)\n",
    "    distances = np.array(distances)\n",
    "    probabilities = softmax(-distances)\n",
    "    \n",
    "    # Get the person with the highest probability\n",
    "    max_index = np.argmax(probabilities)\n",
    "    person = person_ids[max_index]\n",
    "    max_probability = probabilities[max_index]\n",
    "    return person, max_probability"
   ]
  },
  {
   "cell_type": "code",
   "execution_count": 10,
   "id": "a5772be7-9c7f-41bd-980b-6b92bc7b4be8",
   "metadata": {},
   "outputs": [],
   "source": [
    "def recognize_person(new_image, threshold=0.8):\n",
    "    resized_image = preprocess_image(new_image)\n",
    "    new_embedding = model.embeddings([resized_image])[0]\n",
    "    person_id, distance = find_match(new_embedding, database, threshold)\n",
    "    if person_id is not None:\n",
    "        print(f\"Match found: {person_id} with distance {distance}\")\n",
    "    else:\n",
    "        print(f\"No match found distance {distance} {threshold}\")"
   ]
  },
  {
   "cell_type": "code",
   "execution_count": 11,
   "id": "6d3d5304-0c38-4117-9004-7e9dd8c77689",
   "metadata": {},
   "outputs": [],
   "source": [
    "def recognize():\n",
    "    print(\"Capturing image for recognition...\")\n",
    "    new_image = capture_image()\n",
    "    if new_image is not None:\n",
    "        image=preprocess_image(new_image)\n",
    "        recognize_person(new_image,0.6)\n",
    "    else:\n",
    "        print(\"No image captured for recognition\")"
   ]
  },
  {
   "cell_type": "code",
   "execution_count": 12,
   "id": "bd3e90a4-e0b9-45ce-8c07-8184c5167c0d",
   "metadata": {},
   "outputs": [],
   "source": [
    "def register(id:str):\n",
    "    person_id = id\n",
    "    image = capture_image()\n",
    "    cv2.imshow('Image', image)\n",
    "    cv2.waitKey(0)\n",
    "    cv2.destroyAllWindows()\n",
    "    if image is not None:\n",
    "        image = preprocess_image(image)\n",
    "        register_person(person_id, image)\n",
    "    else:\n",
    "        print(\"No image captured for registration\")"
   ]
  },
  {
   "cell_type": "code",
   "execution_count": 13,
   "id": "d0c5ca0d-927e-4dc2-a4a8-7dabbf720b6d",
   "metadata": {},
   "outputs": [],
   "source": [
    "id:int = 1"
   ]
  },
  {
   "cell_type": "code",
   "execution_count": null,
   "id": "45745316-765f-49bc-9427-f4e6b734e215",
   "metadata": {},
   "outputs": [
    {
     "name": "stdout",
     "output_type": "stream",
     "text": [
      "Face recognition project\n",
      "1.register\n",
      "2.recognize\n"
     ]
    },
    {
     "name": "stdin",
     "output_type": "stream",
     "text": [
      "Enter you choice: 1\n",
      "Enter Name: hamdan\n"
     ]
    }
   ],
   "source": [
    "print(\"Face recognition project\")\n",
    "print(\"1.register\")\n",
    "print(\"2.recognize\")\n",
    "choice=int(input(\"Enter you choice:\"))\n",
    "if choice==1:\n",
    "    s=input(\"Enter Name:\")\n",
    "    register(s)\n",
    "    id+=1\n",
    "elif choice==2:\n",
    "    recognize()"
   ]
  },
  {
   "cell_type": "code",
   "execution_count": null,
   "id": "12aa9213-594b-4294-ab58-2b819d02d2a6",
   "metadata": {},
   "outputs": [],
   "source": []
  }
 ],
 "metadata": {
  "kernelspec": {
   "display_name": "Python 3 (ipykernel)",
   "language": "python",
   "name": "python3"
  },
  "language_info": {
   "codemirror_mode": {
    "name": "ipython",
    "version": 3
   },
   "file_extension": ".py",
   "mimetype": "text/x-python",
   "name": "python",
   "nbconvert_exporter": "python",
   "pygments_lexer": "ipython3",
   "version": "3.12.4"
  }
 },
 "nbformat": 4,
 "nbformat_minor": 5
}
